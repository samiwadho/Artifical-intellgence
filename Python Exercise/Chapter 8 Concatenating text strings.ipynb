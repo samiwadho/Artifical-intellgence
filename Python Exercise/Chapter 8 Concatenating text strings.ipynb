{
 "cells": [
  {
   "cell_type": "code",
   "execution_count": 3,
   "id": "4722d259",
   "metadata": {},
   "outputs": [
    {
     "ename": "NameError",
     "evalue": "name 'a' is not defined",
     "output_type": "error",
     "traceback": [
      "\u001b[0;31m---------------------------------------------------------------------------\u001b[0m",
      "\u001b[0;31mNameError\u001b[0m                                 Traceback (most recent call last)",
      "Input \u001b[0;32mIn [3]\u001b[0m, in \u001b[0;36m<cell line: 8>\u001b[0;34m()\u001b[0m\n\u001b[1;32m      1\u001b[0m \u001b[38;5;66;03m# A Smarter Way to Learn Python / Chapter 8 Concatenating text strings\u001b[39;00m\n\u001b[1;32m      2\u001b[0m     \n\u001b[1;32m      3\u001b[0m \u001b[38;5;66;03m#Q1 To combine two strings, you __________ them.\u001b[39;00m\n\u001b[0;32m   (...)\u001b[0m\n\u001b[1;32m      6\u001b[0m \u001b[38;5;66;03m#Q2 Strings have been assigned to the variables a and b. Concatenate them and assign the result to the variable c.\u001b[39;00m\n\u001b[1;32m      7\u001b[0m \u001b[38;5;66;03m#Answer \u001b[39;00m\n\u001b[0;32m----> 8\u001b[0m c \u001b[38;5;241m=\u001b[39m \u001b[43ma\u001b[49m \u001b[38;5;241m+\u001b[39m b\n\u001b[1;32m     10\u001b[0m \u001b[38;5;66;03m#Q3 Concatenate \"Mr. \" and \"Brown\". Assign the result to the variable person.\u001b[39;00m\n\u001b[1;32m     11\u001b[0m \u001b[38;5;66;03m#Answer\u001b[39;00m\n\u001b[1;32m     12\u001b[0m person \u001b[38;5;241m=\u001b[39m\u001b[38;5;124m\"\u001b[39m\u001b[38;5;124mMr.\u001b[39m\u001b[38;5;124m\"\u001b[39m\u001b[38;5;241m+\u001b[39m\u001b[38;5;124m\"\u001b[39m\u001b[38;5;124mBrown\u001b[39m\u001b[38;5;124m\"\u001b[39m\n",
      "\u001b[0;31mNameError\u001b[0m: name 'a' is not defined"
     ]
    }
   ],
   "source": [
    "            # A Smarter Way to Learn Python / Chapter 8 Concatenating text strings\n",
    "    \n",
    "#Q1 To combine two strings, you __________ them.\n",
    "#Answer concatenate\n",
    "\n",
    "#Q2 Strings have been assigned to the variables a and b. Concatenate them and assign the result to the variable c.\n",
    "#Answer \n",
    "c = a + b\n",
    "\n",
    "#Q3 Concatenate \"Mr. \" and \"Brown\". Assign the result to the variable person.\n",
    "#Answer\n",
    "person =\"Mr.\"+\"Brown\"\n",
    "\n",
    "#Q4 Concatenate first_string and second_string. Assign the result to the variable combo.\n",
    "#Answer\n",
    "combo = first_string + second_string\n",
    "\n",
    "#Q5 Concatenate \"Hello, \" and \"world!\". Assign the result to a variable. Make up the variable name. \n",
    "    #Don't forget the space at the end of the first string.\n",
    "#Answer\n",
    "intro=\"Hello,\"+\"world!\"\n",
    "\n",
    "#Q6 Concatenate three variables. Assign the result to a fourth variable. Make up the variable names.\n",
    "#Answer\n",
    "a = b + c + d\n",
    "\n",
    "#Q7 Concatenate three strings: your first name, a space, and your last name. \n",
    "    #Assign the result to a variable. Make up the variable name.\n",
    "#Answer\n",
    "Full_Name= \"Sami\" + \" \" + \"Wadho\"\n",
    "\n",
    "\n",
    "#Q8 Give yourself a fancy title, like Sir Mark or Lady Judith. \n",
    "    #Concatenate the title plus a space plus your first name. \n",
    "    #Assign the result to a variable. Make up the variable name.\n",
    "#Answer\n",
    "first_name =\"Mr.\"+\" \"+\"Sami\"\n",
    "\n",
    "#Q9 Give yourself a fancy title. But this time include the space in the first string. \n",
    "    #So you'll be concatenating the title and space as the first string, \n",
    "    #and your first name as the second string. Assign the result to a variable. Make up the variable name.\n",
    "#Answer\n",
    "personage = \"Mr. Sami \" + \"Wadho\"\n",
    "\n",
    "#Q10 In a single statement, tell Python to display the concatenation of two variables. Make up the variable names.\n",
    "#Answer\n",
    "greeting=\"Hello!\"\n",
    "full=\"Sami\"\n",
    "print(greeting+full)\n",
    "\n",
    "#Q11 On line 3 code a single line, using the two variables plus a string between them, that displays Hello, World!\n",
    "    #Click the Run button    above your code. If you've coded correctly, the value will display in the right-hand panel. \n",
    "    #(You can click Instructions at the top of the right-hand panel to see the correct code.\n",
    "first_word = \"Hello\"  \n",
    "second_word = \"World!\"\n",
    "#Answer\n",
    "first_word = \"Hello,\"  \n",
    "second_word = \" World!\"\n",
    "print(first_word+second_word)\n",
    "\n",
    "#Q12 Assign three strings to three different variables. Concatenate them and assign the result to a fourth variable. Display the concatenated string using the fourth variable.\n",
    "    #Click the Run button    above your code. If you've coded correctly, the value will display in the right-hand panel.\n",
    "    #(You can click Instructions at the top of the right-hand panel to see the correct code.)\n",
    "#Answer\n",
    "greeting =\"Hello\"\n",
    "punc=\"!\"\n",
    "full = \"Sami\"\n",
    "whole=greeting+punc+full\n",
    "print(whole)\n"
   ]
  },
  {
   "cell_type": "code",
   "execution_count": null,
   "id": "5dc8ec06",
   "metadata": {},
   "outputs": [],
   "source": []
  }
 ],
 "metadata": {
  "kernelspec": {
   "display_name": "Python 3 (ipykernel)",
   "language": "python",
   "name": "python3"
  },
  "language_info": {
   "codemirror_mode": {
    "name": "ipython",
    "version": 3
   },
   "file_extension": ".py",
   "mimetype": "text/x-python",
   "name": "python",
   "nbconvert_exporter": "python",
   "pygments_lexer": "ipython3",
   "version": "3.9.12"
  }
 },
 "nbformat": 4,
 "nbformat_minor": 5
}
