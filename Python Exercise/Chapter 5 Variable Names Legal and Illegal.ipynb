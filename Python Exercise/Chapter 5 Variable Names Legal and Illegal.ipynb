{
 "cells": [
  {
   "cell_type": "code",
   "execution_count": 10,
   "id": "0daaa190",
   "metadata": {},
   "outputs": [],
   "source": [
    "            # A Smarter Way to Learn Python / Chapter 5 Exercises\n",
    "#Q1 Type the illegal character in this variable name 2nd_address\n",
    "#Answer 2\n",
    "\n",
    "#Q2 Type the illegal character in this variable name: fourth-Player\n",
    "#Answer -\n",
    "\n",
    "#Q3  In the orange box type the next character. I'll autocomplete. Don't type spaces or carriage returns.\n",
    "    #Rewrite this variable name using the recommended style: customerlastname\n",
    "#Answer customer_last_name\n",
    "\n",
    "#Q4 Fail-safe coding. If you type the wrong character, I'll cancel the keystroke. Type spaces. When the exercise is complete, I'll turn the exercise number green.\n",
    "    #Rewrite this variable name using the recommended style:\n",
    "    #totalaftertax\n",
    "#Answer total_after_tax\n",
    "\n",
    "#Q5 Make up a variable name that includes a number.\n",
    "#Answer salary_10000\n",
    "\n",
    "#Q6 Assign a string to a variable. Make up the string and the variable name.\n",
    "#Answer \n",
    "last_name=\"johnsmith\"\n",
    "\n",
    "#Q7 Assign a number to a variable. Make up the number and the variable name.\n",
    "#Answer\n",
    "num=13\n",
    "\n",
    "#Q8 Assign the sum of two numbers to a variable. Make up the numbers and the variable name.\n",
    "\n",
    "#Answer\n",
    "sum =12+15\n",
    "\n",
    "#Q9 Assign one variable to another. Make up the variable names.\n",
    "\n",
    "#Answer\n",
    "tax = economies\n",
    "\n",
    "#Q10 Divide one variable by another and assign the result to a third variable. Make up the variable names.\n",
    "#Answer\n",
    "each_share = total / number_of_diners"
   ]
  },
  {
   "cell_type": "code",
   "execution_count": 9,
   "id": "ab750e05",
   "metadata": {},
   "outputs": [
    {
     "name": "stdout",
     "output_type": "stream",
     "text": [
      "johnsmith\n"
     ]
    }
   ],
   "source": []
  },
  {
   "cell_type": "code",
   "execution_count": 11,
   "id": "d06bca29",
   "metadata": {},
   "outputs": [],
   "source": []
  },
  {
   "cell_type": "code",
   "execution_count": null,
   "id": "f3421807",
   "metadata": {},
   "outputs": [],
   "source": []
  }
 ],
 "metadata": {
  "kernelspec": {
   "display_name": "Python 3 (ipykernel)",
   "language": "python",
   "name": "python3"
  },
  "language_info": {
   "codemirror_mode": {
    "name": "ipython",
    "version": 3
   },
   "file_extension": ".py",
   "mimetype": "text/x-python",
   "name": "python",
   "nbconvert_exporter": "python",
   "pygments_lexer": "ipython3",
   "version": "3.9.12"
  }
 },
 "nbformat": 4,
 "nbformat_minor": 5
}
