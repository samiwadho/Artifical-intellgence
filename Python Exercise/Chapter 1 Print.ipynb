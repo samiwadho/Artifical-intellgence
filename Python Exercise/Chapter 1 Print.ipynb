{
 "cells": [
  {
   "cell_type": "code",
   "execution_count": null,
   "id": "bad77257",
   "metadata": {},
   "outputs": [],
   "source": [
    "      #A Smarter Way to Learn Python / Chapter 1 Exercises Print\n",
    "\n",
    "#Q1 What keyword tells Python to display something on the screen?\n",
    "print('print')\n",
    "\n",
    "#Q2 Complete the line of code to tell Python to display the name of the oval object laid by a hen. (1 word, lower-case)\n",
    "print('sami')\n",
    "\n",
    "#Q3 Complete the line of code to tell Python to display the name of the oval object laid by a hen. (1 word, lower-case)\n",
    "\n",
    "#Answer\n",
    "#print________#(\"egg\")\n",
    "\n",
    "#Q4 In the orange box type the next character. I'll autocomplete. Don't type spaces or carriage returns.\n",
    "#Tell Python to display the letter \"e\". \n",
    "\n",
    "print('e')\n",
    "\n",
    "#Q5 Fail-safe coding. If you type the wrong character, I'll cancel the keystroke. Type spaces. When the exercise is complete, I'll turn the exercise number green.\n",
    "#Tell Python to display the name of our planet. (1 word, lower-case)\n",
    "print(\"earth\")\n",
    "\n",
    "#Q6 Tell Python to display the name of the star that makes life possible on earth. (1 word, lower-case)\n",
    "\n",
    "print(\"sun\")\n",
    "#Q7 Tell Python to display the first three letters of the alphabet in upper-case\n",
    "print(\"ABC\")\n",
    "\n",
    "#Q8 Tell Python to display a string of your choice\n",
    "print(\"Abdul Sami\")\n",
    "\n",
    "#Q9 Tell Python to display your first name.\n",
    "print(\"Abdul sami\")\n",
    "\n",
    "#Q10 Tell Python to display the three-letter word for a canine. (1 word, lower-case)\n",
    "print(\"war\")\n",
    "\n",
    "#Q11 tell pyton to display the \"hello world\" captical letter big\n",
    "print(\"Hello World\")\n"
   ]
  }
 ],
 "metadata": {
  "kernelspec": {
   "display_name": "Python 3 (ipykernel)",
   "language": "python",
   "name": "python3"
  },
  "language_info": {
   "codemirror_mode": {
    "name": "ipython",
    "version": 3
   },
   "file_extension": ".py",
   "mimetype": "text/x-python",
   "name": "python",
   "nbconvert_exporter": "python",
   "pygments_lexer": "ipython3",
   "version": "3.9.12"
  }
 },
 "nbformat": 4,
 "nbformat_minor": 5
}
