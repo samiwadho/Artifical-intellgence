{
 "cells": [
  {
   "cell_type": "code",
   "execution_count": 2,
   "id": "78a08f9e",
   "metadata": {},
   "outputs": [
    {
     "ename": "NameError",
     "evalue": "name 'total' is not defined",
     "output_type": "error",
     "traceback": [
      "\u001b[0;31m---------------------------------------------------------------------------\u001b[0m",
      "\u001b[0;31mNameError\u001b[0m                                 Traceback (most recent call last)",
      "Input \u001b[0;32mIn [2]\u001b[0m, in \u001b[0;36m<cell line: 22>\u001b[0;34m()\u001b[0m\n\u001b[1;32m     16\u001b[0m left_over \u001b[38;5;241m=\u001b[39m \u001b[38;5;241m12\u001b[39m \u001b[38;5;241m%\u001b[39m \u001b[38;5;241m3\u001b[39m\n\u001b[1;32m     19\u001b[0m \u001b[38;5;66;03m#Q5 Code the shorthand version of the following statement:\u001b[39;00m\n\u001b[1;32m     20\u001b[0m \u001b[38;5;66;03m#total = total + 5\u001b[39;00m\n\u001b[1;32m     21\u001b[0m \u001b[38;5;66;03m#Answer\u001b[39;00m\n\u001b[0;32m---> 22\u001b[0m total \u001b[38;5;241m+\u001b[39m\u001b[38;5;241m=\u001b[39m \u001b[38;5;241m5\u001b[39m\n\u001b[1;32m     26\u001b[0m \u001b[38;5;66;03m#Q6 Code the shorthand version of the following statement:\u001b[39;00m\n\u001b[1;32m     27\u001b[0m \u001b[38;5;66;03m#loss = loss - 5\u001b[39;00m\n\u001b[1;32m     28\u001b[0m \u001b[38;5;66;03m#Answer\u001b[39;00m\n\u001b[1;32m     29\u001b[0m loss \u001b[38;5;241m-\u001b[39m\u001b[38;5;241m=\u001b[39m \u001b[38;5;241m5\u001b[39m\n",
      "\u001b[0;31mNameError\u001b[0m: name 'total' is not defined"
     ]
    }
   ],
   "source": [
    "            # A Smarter Way to Learn Python / Chapter 6 Math expressions: Unfamiliar operators\n",
    "#Q1 Type the modulo operator\n",
    "\n",
    "#Answer %\n",
    "#Q2 What is the name of this operator (one word, lowercase)? %\n",
    "\n",
    "#Answer modulo\n",
    "#Q3 Write the code that finds the remainder when 8 is divided by 3.\n",
    "\n",
    "#Answer \n",
    "8 % 3\n",
    "\n",
    "\n",
    "#Q4 Find the remainder when you divide 12 by 3. Assign the result to the variable left_over.\n",
    "#Answer\n",
    "left_over = 12 % 3\n",
    "\n",
    "\n",
    "#Q5 Code the shorthand version of the following statement:\n",
    "#total = total + 5\n",
    "#Answer\n",
    "total += 5\n",
    "\n",
    "\n",
    "\n",
    "#Q6 Code the shorthand version of the following statement:\n",
    "#loss = loss - 5\n",
    "#Answer\n",
    "loss -= 5\n",
    "\n",
    "\n",
    "#Q7 Find the remainder when you divide one number by another and assign the result to a variable. Make up the numbers and the variable name.\n",
    "\n",
    "#Answer\n",
    "left_over = 15 % 2\n",
    "\n",
    "\n",
    "#Q8 Use shorthand code to multiply a variable by a number and assign the result to the same variable. Make up the variable name and the number.\n",
    "#Answer\n",
    "multi *= 14\n",
    "\n",
    "\n",
    "#Q9 Find what's left over when you divide one variable by another and assign the result to a third variable. Make up the variable names.\n",
    "#Answer\n",
    "x = y % z\n",
    "\n",
    "\n",
    "#Q10 Using shorthand code, subtract one variable from another and assign the result to the first variable. Make up the variable names.\n",
    "#Answer\n",
    "x -= y\n",
    "\n",
    "#Q11 In a single line of code, display the remainder—that is, what's left over—when 100 is divided by 11.\n",
    "#Click the Run button    above your code. If you've coded correctly, \n",
    "#the number 1 will display in the right-hand panel. \n",
    "#(You can click Instructions at the top of the right-hand panel to see the correct code.)\n",
    "remain=100%11\n",
    "print(remain)\n",
    "\n",
    "#Answer\n",
    "#Q12 Rewrite lines 2 and 3 using the shorthand you used in this chapter.\n",
    "#Click the Run button    above your code. If you've coded correctly, the the number 1.0 will display in \n",
    "#the right-hand panel. (You can click Instructions at the top of the right-hand panel to see the correct code.)\n",
    "#Answer\n",
    "x = 100\n",
    "x = x + 3\n",
    "x = x / x\n",
    "print(x)\n"
   ]
  },
  {
   "cell_type": "code",
   "execution_count": null,
   "id": "9c76ab72",
   "metadata": {},
   "outputs": [],
   "source": []
  }
 ],
 "metadata": {
  "kernelspec": {
   "display_name": "Python 3 (ipykernel)",
   "language": "python",
   "name": "python3"
  },
  "language_info": {
   "codemirror_mode": {
    "name": "ipython",
    "version": 3
   },
   "file_extension": ".py",
   "mimetype": "text/x-python",
   "name": "python",
   "nbconvert_exporter": "python",
   "pygments_lexer": "ipython3",
   "version": "3.9.12"
  }
 },
 "nbformat": 4,
 "nbformat_minor": 5
}
