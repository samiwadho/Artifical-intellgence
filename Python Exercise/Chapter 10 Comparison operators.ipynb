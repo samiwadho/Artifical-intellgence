{
 "cells": [
  {
   "cell_type": "code",
   "execution_count": 1,
   "id": "1e249651",
   "metadata": {},
   "outputs": [
    {
     "ename": "NameError",
     "evalue": "name 'y' is not defined",
     "output_type": "error",
     "traceback": [
      "\u001b[0;31m---------------------------------------------------------------------------\u001b[0m",
      "\u001b[0;31mNameError\u001b[0m                                 Traceback (most recent call last)",
      "Input \u001b[0;32mIn [1]\u001b[0m, in \u001b[0;36m<cell line: 43>\u001b[0;34m()\u001b[0m\n\u001b[1;32m     39\u001b[0m x \u001b[38;5;241m=\u001b[39m (\u001b[38;5;241m2\u001b[39m \u001b[38;5;241m*\u001b[39m \u001b[38;5;241m4\u001b[39m \u001b[38;5;241m*\u001b[39m \u001b[38;5;241m4\u001b[39m) \u001b[38;5;241m+\u001b[39m \u001b[38;5;241m2\u001b[39m\n\u001b[1;32m     41\u001b[0m \u001b[38;5;66;03m#Q8 Rewrite the following statement to force this order: First divide 5 by 7. Then subtract 1 from y.\u001b[39;00m\n\u001b[1;32m     42\u001b[0m     \u001b[38;5;66;03m#Then multiply the first result by the second result.\u001b[39;00m\n\u001b[0;32m---> 43\u001b[0m x \u001b[38;5;241m=\u001b[39m \u001b[38;5;241m5\u001b[39m \u001b[38;5;241m/\u001b[39m \u001b[38;5;241m7\u001b[39m \u001b[38;5;241m*\u001b[39m \u001b[43my\u001b[49m \u001b[38;5;241m-\u001b[39m \u001b[38;5;241m1\u001b[39m\n\u001b[1;32m     44\u001b[0m \u001b[38;5;66;03m#Answer\u001b[39;00m\n\u001b[1;32m     45\u001b[0m x \u001b[38;5;241m=\u001b[39m (\u001b[38;5;241m5\u001b[39m \u001b[38;5;241m/\u001b[39m \u001b[38;5;241m7\u001b[39m )\u001b[38;5;241m*\u001b[39m( y \u001b[38;5;241m-\u001b[39m \u001b[38;5;241m1\u001b[39m)\n",
      "\u001b[0;31mNameError\u001b[0m: name 'y' is not defined"
     ]
    }
   ],
   "source": [
    "            # A Smarter Way to Learn Python / Chapter 10 Comparison operators\n",
    "#Q1 What character means \"greater than\"?\n",
    "#Answer\n",
    ">\n",
    "#Q2 What character means \"less than\"?\n",
    "#Answer\n",
    "<\n",
    "#Q3 Code the first line of an if statement testing whether the variable total is less than 100.\n",
    "#Answer\n",
    "if total < 100:\n",
    "\n",
    "#Q4 Code the first line of an if statement testing whether the variable tax is equal to the variable minimum.\n",
    "#Answer\n",
    "if tax == minimum:\n",
    "#Q5 How do you write less than or equal to?\n",
    "#Answer\n",
    "<=\n",
    "#Q6 How do you write greater than or equal to?\n",
    "#Answer\n",
    ">=\n",
    " \n",
    "#Q7 Code the first line of an if statement that tests whether \n",
    "    #the sum of a and b is greater than or equal to c minus 7.\n",
    "#Answer \n",
    " if a+b >= c-7:\n",
    "\n",
    "#Q8 Write the first line of an if statement that tests whether \n",
    "    #one variable is greater than or equal to another variable. Make up the variable names.\n",
    "#Answer\n",
    "if num >= num1:\n",
    "\n",
    "#Q9 Write an if statement that tests whether a variable is smaller than 99. \n",
    "    #If the test passes, assign 99 to the variable.\n",
    "    #Make up the variable name. Remember to indent the second line two spaces.\n",
    "#Answer\n",
    "if a < 99:\n",
    " a = 99\n",
    "\n",
    "#Q10 Write an if statement that tests whether a first variable is greater than a second variable. \n",
    "    #If the test passes, make the second variable equal to the first variable. Make up the variable names\n",
    "#Answer\n",
    "if num > num1 :\n",
    " num1=num \n",
    "\n",
    "#Q11 #1 If 1 plus 1 doesn't equal 3, display ok\n",
    "#  #2 Click the Run button    above your code. \n",
    "#If you've coded correctly, ok will display in the right-hand panel.\n",
    "#(You can click Instructions at the top of the right-hand panel to see the correct code.)\n",
    "#Answer\n",
    "if 1+1 != 3:\n",
    "  print(\"ok\")\n",
    "\n",
    "#Q12   1If 2 is less than or equal to 2, display ok\n",
    "# 2 Click the Run button    above your code. \n",
    "# If you've coded correctly, ok will display in the right-hand panel.\n",
    "# (You can click Instructions at the top of the right-hand panel to see the correct code.)\n",
    "#Answer\n",
    "if 2 <= 2 :\n",
    "   print(\"ok\")"
   ]
  },
  {
   "cell_type": "code",
   "execution_count": null,
   "id": "baf70c19",
   "metadata": {},
   "outputs": [],
   "source": []
  }
 ],
 "metadata": {
  "kernelspec": {
   "display_name": "Python 3 (ipykernel)",
   "language": "python",
   "name": "python3"
  },
  "language_info": {
   "codemirror_mode": {
    "name": "ipython",
    "version": 3
   },
   "file_extension": ".py",
   "mimetype": "text/x-python",
   "name": "python",
   "nbconvert_exporter": "python",
   "pygments_lexer": "ipython3",
   "version": "3.9.12"
  }
 },
 "nbformat": 4,
 "nbformat_minor": 5
}
