{
 "cells": [
  {
   "cell_type": "code",
   "execution_count": null,
   "id": "9eb74eb9",
   "metadata": {},
   "outputs": [],
   "source": [
    "#Way to Learn Python / Chapter 2 Exercises Variables for Strings\n",
    "\n",
    "    \n",
    "#Q1 Because of the quotation marks, Python identifies the greeting below as a _______ (1 word, lowercase)\n",
    "#\"Hello, World!\"\n",
    "#Answer =string\n",
    "\n",
    "#Q2 Because there are no quotation marks, Python identifies the set of characters below as a _______.\n",
    "#country_of_origin\n",
    "\n",
    "#Answer :variable\n",
    "\n",
    "#Q3 In the orange box type the next character. I'll autocomplete. Don't type spaces or carriage returns.\n",
    "#Assign the string \"Boo!\" to the variable scare.\n",
    "#Answer : scare=\"Boo!\"\n",
    "\n",
    "#Q4 Fail-safe coding. If you type the wrong character, I'll cancel the keystroke. Type spaces. When the exercise is complete, I'll turn the exercise number green.\n",
    "#Assign the string \"jay\" to the variable bird.\n",
    "#Answer : bird = \"jay\"\n",
    "\n",
    "#Q5 Assign your first name to a variable. You choose the variable name.\n",
    "name = \"Sami Wadho\"\n",
    "\n",
    "#Q6 Assign a string to a variable. You choose the variable name and the string.\n",
    "last_name = \"Wadho\"\n",
    "\n",
    "#Q7 In the statement below, I assign a string to a variable. Using the variable, \n",
    " #  write the statement that displays the string on the screen.\n",
    "my_name = \"Mark\"\n",
    "print(my_name)\n",
    "\n",
    "#Q8 Assign a string to a variable. You choose the variable name and the string. \n",
    "  #  Using the variable, write a statement that displays the string on the screen.\n",
    "country =\"Pakistan\"\n",
    "print(country)\n",
    "\n",
    "#Q9 Revise this variable name as the Python governing body recommends.\n",
    "  #  countryoforigin\n",
    "#Answer : country_of_origin\n",
    "\n",
    "#Q10 Assign the string \"Hi\" to the variable greeting\n",
    "#Answer : greeting=\"Hi\"\n",
    "\n",
    "#Q11 Click in the left-hand Trinket panel.On line \n",
    "#1, assign a string of your choice to a variable of your choice. On line \n",
    "#2, tell Python to display the string, using the variable.\n",
    "#3. Click the Run button    above your code. If you've coded correctly, \n",
    "#the string will display in the right-hand panel. \n",
    "#(You can click Instructions at the top of the right-hand panel to see the correct code.)\n",
    "city=\"karachi\"\n",
    "print(city)"
   ]
  }
 ],
 "metadata": {
  "kernelspec": {
   "display_name": "Python 3 (ipykernel)",
   "language": "python",
   "name": "python3"
  },
  "language_info": {
   "codemirror_mode": {
    "name": "ipython",
    "version": 3
   },
   "file_extension": ".py",
   "mimetype": "text/x-python",
   "name": "python",
   "nbconvert_exporter": "python",
   "pygments_lexer": "ipython3",
   "version": "3.9.12"
  }
 },
 "nbformat": 4,
 "nbformat_minor": 5
}
