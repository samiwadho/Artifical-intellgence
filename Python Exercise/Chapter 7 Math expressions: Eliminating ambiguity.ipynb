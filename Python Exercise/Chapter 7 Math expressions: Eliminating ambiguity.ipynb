{
 "cells": [
  {
   "cell_type": "code",
   "execution_count": 1,
   "id": "e3d18df1",
   "metadata": {},
   "outputs": [
    {
     "ename": "NameError",
     "evalue": "name 'y' is not defined",
     "output_type": "error",
     "traceback": [
      "\u001b[0;31m---------------------------------------------------------------------------\u001b[0m",
      "\u001b[0;31mNameError\u001b[0m                                 Traceback (most recent call last)",
      "Input \u001b[0;32mIn [1]\u001b[0m, in \u001b[0;36m<cell line: 43>\u001b[0;34m()\u001b[0m\n\u001b[1;32m     39\u001b[0m x \u001b[38;5;241m=\u001b[39m (\u001b[38;5;241m2\u001b[39m \u001b[38;5;241m*\u001b[39m \u001b[38;5;241m4\u001b[39m \u001b[38;5;241m*\u001b[39m \u001b[38;5;241m4\u001b[39m) \u001b[38;5;241m+\u001b[39m \u001b[38;5;241m2\u001b[39m\n\u001b[1;32m     41\u001b[0m \u001b[38;5;66;03m#Q8 Rewrite the following statement to force this order: First divide 5 by 7. Then subtract 1 from y.\u001b[39;00m\n\u001b[1;32m     42\u001b[0m     \u001b[38;5;66;03m#Then multiply the first result by the second result.\u001b[39;00m\n\u001b[0;32m---> 43\u001b[0m x \u001b[38;5;241m=\u001b[39m \u001b[38;5;241m5\u001b[39m \u001b[38;5;241m/\u001b[39m \u001b[38;5;241m7\u001b[39m \u001b[38;5;241m*\u001b[39m \u001b[43my\u001b[49m \u001b[38;5;241m-\u001b[39m \u001b[38;5;241m1\u001b[39m\n\u001b[1;32m     44\u001b[0m \u001b[38;5;66;03m#Answer\u001b[39;00m\n\u001b[1;32m     45\u001b[0m x \u001b[38;5;241m=\u001b[39m (\u001b[38;5;241m5\u001b[39m \u001b[38;5;241m/\u001b[39m \u001b[38;5;241m7\u001b[39m )\u001b[38;5;241m*\u001b[39m( y \u001b[38;5;241m-\u001b[39m \u001b[38;5;241m1\u001b[39m)\n",
      "\u001b[0;31mNameError\u001b[0m: name 'y' is not defined"
     ]
    }
   ],
   "source": [
    "            #A Smarter Way to Learn Python / Chapter 7 Math expressions: Eliminating ambiguity\n",
    "\n",
    "    \n",
    "# Q1 If you haven't bothered to memorize precedents rules, there are two ways you might interpret the math below. \n",
    "#If you interpret it one way, total_cost is 16. If you interpret it the other way, total_cost is _____.\n",
    "total_cost = 1 + 3 * 4\n",
    "#Answer 13\n",
    "\n",
    "#Q2 What is the value of total_cost?\n",
    "total_cost = 1 + (3 * 4)\n",
    "#Answer 13\n",
    " \n",
    "#Q3 Rewrite this so total_cost is 16.\n",
    "total_cost = 1 + 3 * 4\n",
    "#Answer \n",
    "total_cost = (1 + 3) * 4\n",
    "\n",
    "#Q4 Rewrite this so total_cost is 13.\n",
    "total_cost = 1 + 3 * 4\n",
    "#Answer\n",
    "total_cost = 1 + (3 * 4)\n",
    "\n",
    "#Q5 Rewrite the following statement to force this order: First, multiply 2 by 4. Then add 4 and 2.\n",
    "#Then multiply the first result by the second result.\n",
    "x = 2 * 4 * 4 + 2\n",
    "#Answer\n",
    "x = (2 * 4 )* (4 + 2)\n",
    "\n",
    "\n",
    "#Q6 Rewrite the following statement to force this order: First, multiply 2 by 4. \n",
    "#Then multiply that result by 4. Then add 2.\n",
    "x = 2 * 4 * 4 + 2\n",
    "#Answer\n",
    "x = ((2 * 4 )*4) + 2\n",
    "\n",
    "#Q7 Rewrite the following statement to force this order: First, multiply 2 by 4 by 4. Then add 2.\n",
    "x = 2 * 4 * 4 + 2\n",
    "#Answer\n",
    "x = (2 * 4 * 4) + 2\n",
    "\n",
    "#Q8 Rewrite the following statement to force this order: First divide 5 by 7. Then subtract 1 from y.\n",
    "    #Then multiply the first result by the second result.\n",
    "x = 5 / 7 * y - 1\n",
    "#Answer\n",
    "x = (5 / 7 )*( y - 1)\n",
    "\n",
    "#Q9 Rewrite the following statement to force this order: Subtract 1 from y. \n",
    "#Then multiply that result by 7 for a second result. Then divide 5 by this second result.\n",
    "x = 5 / 7 * y - 1\n",
    "#Answer\n",
    "x = 5 / (7 * (y - 1))\n",
    "\n",
    "#Q10 Rewrite the following statement to force this order: Divide 5 by 7. \n",
    "#Then multiply that result by y. Then subtract 1.\n",
    "x = 5 / 7 * y - 1\n",
    "#Answer\n",
    "x = ((5 / 7) * y) - 1\n",
    "\n",
    "#Q11 1. Add parentheses to this code to remove ambiguity so the result is 60.\n",
    "    #2. Click the Run button    above your code. \n",
    "    #If you've coded correctly, the number 60 will display in the right-hand panel. \n",
    "    #(You can click Instructions at the top of the right-hand panel to see the correct code.)\n",
    "print(4 * 5 + 10)\n",
    "#Answer\n",
    "print(4 * (5 + 10))\n",
    "\n",
    "#Q12 1.Remove ambiguity from this code so the result is 4.\n",
    "    #2.Click the Run button    above your code. \n",
    "    #If you've coded correctly, the number 4 will display in the right-hand panel. \n",
    "    #(You can click Instructions at the top of the right-hand panel to see the correct code.)\n",
    "print(5 + 3 / 1 + 1)\n",
    "#Answer\n",
    "print((5+3) /(1 + 1))\n"
   ]
  },
  {
   "cell_type": "code",
   "execution_count": null,
   "id": "ae9d56d7",
   "metadata": {},
   "outputs": [],
   "source": []
  }
 ],
 "metadata": {
  "kernelspec": {
   "display_name": "Python 3 (ipykernel)",
   "language": "python",
   "name": "python3"
  },
  "language_info": {
   "codemirror_mode": {
    "name": "ipython",
    "version": 3
   },
   "file_extension": ".py",
   "mimetype": "text/x-python",
   "name": "python",
   "nbconvert_exporter": "python",
   "pygments_lexer": "ipython3",
   "version": "3.9.12"
  }
 },
 "nbformat": 4,
 "nbformat_minor": 5
}
