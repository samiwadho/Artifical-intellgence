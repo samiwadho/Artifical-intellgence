{
 "cells": [
  {
   "cell_type": "code",
   "execution_count": null,
   "id": "52d4e9b8",
   "metadata": {},
   "outputs": [],
   "source": [
    "#Way to Learn Python / Chapter 4 Exercises Math expressions: Familiar operators\n",
    "\n",
    "\n",
    "    \n",
    "#1 Rewrite this so total equals 10.total = \"4\" + 6\n",
    "total = 4 + 6\n",
    "print(total)\n",
    "\n",
    "#2What is the value of third_number?\n",
    "first_number = 5\n",
    "second_number = 6\n",
    "third_number = first_number * second_number\n",
    "print(third_number)\n",
    "\n",
    "#3 Divide 12 by the decimal .5 and assign the result to the variable outcome\n",
    "12/.5               \n",
    "\n",
    "#4 Divide the variable total by 3 and assign the result to the variable each_share\n",
    "share = total / 3\n",
    "\n",
    "#5 Subtract one number from another and assign the result to a variable. Make up the numbers and the variable name.\n",
    "\n",
    "result=14-7\n",
    "\n",
    "#6 Divide one variable by another and assign the result to a third variable. Make up the variable names.\n",
    "\n",
    "num3=num1/num2\n",
    "#7 Subtract a variable from a number and assign the result to a second variable. Make up the variable names and the number.\n",
    "result = 1000 - discount\n",
    "\n",
    "#8 Multiply a variable by itself and assign the result to the same variable. Make up the variable name.\n",
    "growing_number = growing_number * growing_number\n",
    "\n",
    "\n",
    "#9 Multiply three numbers and assign the result to a variable. Make up the numbers and the variable name.\n",
    "result = 5 * 6 * 7\n",
    "\n",
    "\n",
    "\n",
    "#10 In one line of code, display the result of multiplying two variables. Make up the variable names.\n",
    "print(first_number * second_number)\n",
    "\n",
    "\n",
    "#11 1. Assign a number to a variable, and another number to a second variable. Multiply the two, using the variables.\n",
    "#Assign the result to a third variablez Display the result using the third variable.\n",
    "#2.Click the Run button    above your code. If you've coded correctly, the result of the multiplication will display in the right-hand panel..\n",
    "(You can click Instructions at the top of the right-hand panel to see the correct code.)\n",
    "\n",
    "#12 In a single line of code, divide one number by another and display the result.Click the Run button    \n",
    "#above your code. If you've coded correctly, the result of the division operation will display in the right-hand panel. \n",
    "#(You can click Instructions at the top of the right-hand panel to see the correct code.)"
   ]
  }
 ],
 "metadata": {
  "kernelspec": {
   "display_name": "Python 3 (ipykernel)",
   "language": "python",
   "name": "python3"
  },
  "language_info": {
   "codemirror_mode": {
    "name": "ipython",
    "version": 3
   },
   "file_extension": ".py",
   "mimetype": "text/x-python",
   "name": "python",
   "nbconvert_exporter": "python",
   "pygments_lexer": "ipython3",
   "version": "3.9.12"
  }
 },
 "nbformat": 4,
 "nbformat_minor": 5
}
