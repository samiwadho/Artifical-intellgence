{
 "cells": [
  {
   "cell_type": "code",
   "execution_count": null,
   "id": "738eeeb7",
   "metadata": {},
   "outputs": [],
   "source": [
    "#Way to Learn Python / Chapter 3 Exercises Variables for Numbers\n",
    "\n",
    "\n",
    "#Q1 There are two correct answers for this one. Answer with either one. What is this?\n",
    "   100\n",
    "    \n",
    "#Q2 Type the illegal character in this variable name.2nd_runner_up.\n",
    "     2\n",
    "#Q3 Assign the number 5 to the variable players\n",
    "players=5\n",
    "#Q4 Assign the negative number -6 to the variable loss\n",
    "loss = -6\n",
    "#Q5 What is the value of total?\n",
    "number = 10\n",
    "total = number + 2\n",
    "\n",
    "#Q6 Assign a number (your choice) to the variable total.\n",
    "total=12\n",
    "#Q7 Assign a negative integer to a variable. You choose the integer and the variable name\n",
    "negative_odd= -9\n",
    "#Q8 What is this (one word, lowercase)?\"-8.087\"\n",
    "string\n",
    "#Q9 Add two variables and assign the result to a third variable. Make up all the variable names.\n",
    "num3=num1+num2\n",
    "#Q11 Add 5 to the variable running_total and assign the result to the same variable\n",
    "running_total = running_total + 5\n",
    "\n",
    "running_total = running_total + 5\n",
    "\n",
    "#Q12 Click in the left-hand Trinket panel.On line \n",
    "#1, assign the sum of two numbers to a variable. Make up the variable name and the numbers. On line \n",
    "#2, tell Python to display the sum using the variable.\n",
    "#3 Click the Run button    above your code. If you've coded correctly, the sum will display in the right-hand panel.\n",
    "(You can click Instructions at the top of the right-hand panel to see the correct code.)\n",
    "full_name=\"Alfa \"+\"Beta\"\n",
    "print(full_name)\n"
   ]
  }
 ],
 "metadata": {
  "kernelspec": {
   "display_name": "Python 3 (ipykernel)",
   "language": "python",
   "name": "python3"
  },
  "language_info": {
   "codemirror_mode": {
    "name": "ipython",
    "version": 3
   },
   "file_extension": ".py",
   "mimetype": "text/x-python",
   "name": "python",
   "nbconvert_exporter": "python",
   "pygments_lexer": "ipython3",
   "version": "3.9.12"
  }
 },
 "nbformat": 4,
 "nbformat_minor": 5
}
